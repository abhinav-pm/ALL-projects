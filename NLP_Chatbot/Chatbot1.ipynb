{
 "cells": [
  {
   "cell_type": "code",
   "execution_count": 1,
   "id": "e2b8d1e3",
   "metadata": {},
   "outputs": [],
   "source": [
    "import nltk"
   ]
  },
  {
   "cell_type": "code",
   "execution_count": 2,
   "id": "1b2b08ed",
   "metadata": {},
   "outputs": [],
   "source": [
    "import re\n",
    "import os\n",
    "import csv\n",
    "from nltk.stem.snowball import SnowballStemmer\n",
    "import random\n",
    "from nltk.classify import SklearnClassifier\n",
    "from nltk.tokenize import RegexpTokenizer\n",
    "from nltk.corpus import stopwords\n",
    "from nltk.stem.wordnet import WordNetLemmatizer\n",
    "import numpy as np\n",
    "import pandas as pd"
   ]
  },
  {
   "cell_type": "code",
   "execution_count": 3,
   "id": "fdb7ff9c",
   "metadata": {},
   "outputs": [],
   "source": [
    "#get multiple ouputs in the same line\n",
    "from IPython.core.interactiveshell import InteractiveShell\n",
    "InteractiveShell.ast_node_interactivity = 'all'\n",
    "\n",
    "#ignore all warnings\n",
    "import warnings\n",
    "warnings.filterwarnings('ignore')\n",
    "warnings.filterwarnings(action='ignore', category=DeprecationWarning)"
   ]
  },
  {
   "cell_type": "code",
   "execution_count": 4,
   "id": "e8a2b18a",
   "metadata": {},
   "outputs": [],
   "source": [
    "#display all rows and cols of a dataframe intead of a truncated version\n",
    "from IPython.display import display\n",
    "pd.set_option('display.max_columns', None)\n",
    "pd.set_option('display.max_rows', None)"
   ]
  },
  {
   "cell_type": "code",
   "execution_count": 5,
   "id": "47f7f5b9",
   "metadata": {},
   "outputs": [],
   "source": [
    "#Preprocess\n",
    "\n",
    "sentence = \"The computer was born to solve problems that did not exist before\"\n",
    "sentence2 = \"Most of the good programmers do programming not because they expect to get paid or get adulation by the public, but because it is fun to program.\""
   ]
  },
  {
   "cell_type": "code",
   "execution_count": 6,
   "id": "a47d4f20",
   "metadata": {},
   "outputs": [
    {
     "data": {
      "text/plain": [
       "False"
      ]
     },
     "execution_count": 6,
     "metadata": {},
     "output_type": "execute_result"
    },
    {
     "name": "stdout",
     "output_type": "stream",
     "text": [
      "abcdefgh\n"
     ]
    },
    {
     "data": {
      "text/plain": [
       "'the computer was born to solve problems that did not exist before'"
      ]
     },
     "execution_count": 6,
     "metadata": {},
     "output_type": "execute_result"
    },
    {
     "data": {
      "text/plain": [
       "'most of the good programmers do programming not because they expect to get paid or get adulation by the public, but because it is fun to program.'"
      ]
     },
     "execution_count": 6,
     "metadata": {},
     "output_type": "execute_result"
    }
   ],
   "source": [
    "#convert sentence to lower case\n",
    "\n",
    "'This' == 'this'\n",
    "print('AbcdEFgH'.lower())\n",
    "sentence.lower()\n",
    "sentence2.lower()"
   ]
  },
  {
   "cell_type": "code",
   "execution_count": 7,
   "id": "16d33b3f",
   "metadata": {},
   "outputs": [
    {
     "data": {
      "text/plain": [
       "['The',\n",
       " 'computer',\n",
       " 'was',\n",
       " 'born',\n",
       " 'to',\n",
       " 'solve',\n",
       " 'problems',\n",
       " 'that',\n",
       " 'did',\n",
       " 'not',\n",
       " 'exist',\n",
       " 'before']"
      ]
     },
     "execution_count": 7,
     "metadata": {},
     "output_type": "execute_result"
    },
    {
     "data": {
      "text/plain": [
       "['Most',\n",
       " 'of',\n",
       " 'the',\n",
       " 'good',\n",
       " 'programmers',\n",
       " 'do',\n",
       " 'programming',\n",
       " 'not',\n",
       " 'because',\n",
       " 'they',\n",
       " 'expect',\n",
       " 'to',\n",
       " 'get',\n",
       " 'paid',\n",
       " 'or',\n",
       " 'get',\n",
       " 'adulation',\n",
       " 'by',\n",
       " 'the',\n",
       " 'public',\n",
       " 'but',\n",
       " 'because',\n",
       " 'it',\n",
       " 'is',\n",
       " 'fun',\n",
       " 'to',\n",
       " 'program']"
      ]
     },
     "execution_count": 7,
     "metadata": {},
     "output_type": "execute_result"
    }
   ],
   "source": [
    "#tokenize and extrax=ction of individual features\n",
    "\n",
    "tokenizer = RegexpTokenizer(r'\\w+')\n",
    "tokens = tokenizer.tokenize(sentence)\n",
    "tokens\n",
    "tokens2 = tokenizer.tokenize(sentence2)\n",
    "tokens2"
   ]
  },
  {
   "cell_type": "code",
   "execution_count": 8,
   "id": "5f3ab0ea",
   "metadata": {},
   "outputs": [
    {
     "data": {
      "text/plain": [
       "['The', 'computer', 'born', 'solve', 'problems', 'exist']"
      ]
     },
     "execution_count": 8,
     "metadata": {},
     "output_type": "execute_result"
    }
   ],
   "source": [
    "#Stopwords : Filter words to remove non useful words\n",
    "filtered_words = [w for w in tokens if not w in stopwords.words('english')]\n",
    "filtered_words"
   ]
  },
  {
   "cell_type": "code",
   "execution_count": 9,
   "id": "71fea103",
   "metadata": {},
   "outputs": [
    {
     "data": {
      "text/plain": [
       "['Most',\n",
       " 'good',\n",
       " 'programmers',\n",
       " 'programming',\n",
       " 'expect',\n",
       " 'get',\n",
       " 'paid',\n",
       " 'get',\n",
       " 'adulation',\n",
       " 'public',\n",
       " 'fun',\n",
       " 'program']"
      ]
     },
     "execution_count": 9,
     "metadata": {},
     "output_type": "execute_result"
    }
   ],
   "source": [
    "filtered_words = [w for w in tokens2 if not w in stopwords.words('english')]\n",
    "filtered_words"
   ]
  },
  {
   "cell_type": "code",
   "execution_count": 10,
   "id": "a619b894",
   "metadata": {},
   "outputs": [],
   "source": [
    "def preprocess(sentence):\n",
    "    sentence = sentence.lower()\n",
    "    tokenizer = RegexpTokenizer(r'\\w+')\n",
    "    tokens = tokenizer.tokenize(sentence)\n",
    "    filtered_words = [w for w in tokens if not w in stopwords.words('english')]\n",
    "    return filtered_words"
   ]
  },
  {
   "cell_type": "code",
   "execution_count": 11,
   "id": "17eb894d",
   "metadata": {},
   "outputs": [
    {
     "name": "stdout",
     "output_type": "stream",
     "text": [
      "['computer', 'born', 'solve', 'problems', 'exist']\n"
     ]
    }
   ],
   "source": [
    "preprocessed_sentence = preprocess(sentence)\n",
    "print(preprocessed_sentence)"
   ]
  },
  {
   "cell_type": "code",
   "execution_count": 12,
   "id": "81c16237",
   "metadata": {},
   "outputs": [
    {
     "data": {
      "text/plain": [
       "['good',\n",
       " 'programmers',\n",
       " 'programming',\n",
       " 'expect',\n",
       " 'get',\n",
       " 'paid',\n",
       " 'get',\n",
       " 'adulation',\n",
       " 'public',\n",
       " 'fun',\n",
       " 'program']"
      ]
     },
     "execution_count": 12,
     "metadata": {},
     "output_type": "execute_result"
    }
   ],
   "source": [
    "preprocess(sentence2)"
   ]
  },
  {
   "cell_type": "code",
   "execution_count": 13,
   "id": "74f0cca0",
   "metadata": {},
   "outputs": [
    {
     "name": "stdout",
     "output_type": "stream",
     "text": [
      "[('computer', 'NN'), ('born', 'VBN'), ('solve', 'VB'), ('problems', 'NNS'), ('exist', 'VBP')]\n"
     ]
    }
   ],
   "source": [
    "#tagging\n",
    "\n",
    "tags = nltk.pos_tag(preprocess(sentence))\n",
    "print(tags)"
   ]
  },
  {
   "cell_type": "code",
   "execution_count": 14,
   "id": "19c9c048",
   "metadata": {},
   "outputs": [
    {
     "name": "stdout",
     "output_type": "stream",
     "text": [
      "[('good', 'JJ'), ('programmers', 'NNS'), ('programming', 'VBG'), ('expect', 'VBP'), ('get', 'NN'), ('paid', 'VBN'), ('get', 'VB'), ('adulation', 'JJ'), ('public', 'JJ'), ('fun', 'NN'), ('program', 'NN')]\n"
     ]
    }
   ],
   "source": [
    "tags = nltk.pos_tag(preprocess(sentence2))\n",
    "print(tags)"
   ]
  },
  {
   "cell_type": "code",
   "execution_count": 15,
   "id": "b8c3b71b",
   "metadata": {},
   "outputs": [],
   "source": [
    "#extracting only nouns and verbs\n",
    "def extract_tagged(sentence):\n",
    "    features = []\n",
    "    for tagged_word in sentence:\n",
    "        word, tag= tagged_word\n",
    "        if tag=='NN' or tag=='VBN' or tag=='NNS' or tag=='VBP' or tag=='RB' or tag=='VBZ' or tag=='VBG' or tag=='PRP' or tag=='JJ':\n",
    "            features.append(word)\n",
    "    return features"
   ]
  },
  {
   "cell_type": "code",
   "execution_count": 16,
   "id": "b163708f",
   "metadata": {},
   "outputs": [
    {
     "data": {
      "text/plain": [
       "['good',\n",
       " 'programmers',\n",
       " 'programming',\n",
       " 'expect',\n",
       " 'get',\n",
       " 'paid',\n",
       " 'adulation',\n",
       " 'public',\n",
       " 'fun',\n",
       " 'program']"
      ]
     },
     "execution_count": 16,
     "metadata": {},
     "output_type": "execute_result"
    }
   ],
   "source": [
    "extract_tagged(tags)"
   ]
  },
  {
   "cell_type": "code",
   "execution_count": 17,
   "id": "cca1d2d7",
   "metadata": {},
   "outputs": [
    {
     "name": "stdout",
     "output_type": "stream",
     "text": [
      "foot\n",
      "giving\n"
     ]
    }
   ],
   "source": [
    "#lemmatize word\n",
    "lmtzr = WordNetLemmatizer()\n",
    "print(lmtzr.lemmatize('feet'))\n",
    "print(lmtzr.lemmatize('giving'))"
   ]
  },
  {
   "cell_type": "code",
   "execution_count": 18,
   "id": "7f94cec3",
   "metadata": {},
   "outputs": [],
   "source": [
    "#stem words\n",
    "words_for_stemming = ['stem', 'stemming', 'stemmed', 'stemmer', 'stems', 'feet', 'willing']"
   ]
  },
  {
   "cell_type": "code",
   "execution_count": 19,
   "id": "0ad9c641",
   "metadata": {},
   "outputs": [
    {
     "data": {
      "text/plain": [
       "['stem', 'stem', 'stem', 'stemmer', 'stem', 'feet', 'will']"
      ]
     },
     "execution_count": 19,
     "metadata": {},
     "output_type": "execute_result"
    }
   ],
   "source": [
    "stemmer = SnowballStemmer('english')\n",
    "[stemmer.stem(x) for x in words_for_stemming]"
   ]
  },
  {
   "cell_type": "code",
   "execution_count": 20,
   "id": "18395ed4",
   "metadata": {},
   "outputs": [],
   "source": [
    "#putting it all together\n",
    "def extract_features(text):\n",
    "    words = preprocess(text)\n",
    "    tags = nltk.pos_tag(words)\n",
    "    extracted_features = extract_tagged(tags)\n",
    "    stemmed_words = [stemmer.stem(x) for x in extracted_features]\n",
    "    result = [lmtzr.lemmatize(x) for x in stemmed_words]\n",
    "    return result"
   ]
  },
  {
   "cell_type": "code",
   "execution_count": 21,
   "id": "54380e07",
   "metadata": {},
   "outputs": [
    {
     "data": {
      "text/plain": [
       "'The computer was born to solve problems that did not exist before'"
      ]
     },
     "execution_count": 21,
     "metadata": {},
     "output_type": "execute_result"
    }
   ],
   "source": [
    "sentence"
   ]
  },
  {
   "cell_type": "code",
   "execution_count": 22,
   "id": "3d18113d",
   "metadata": {},
   "outputs": [
    {
     "data": {
      "text/plain": [
       "['comput', 'born', 'problem', 'exist']"
      ]
     },
     "execution_count": 22,
     "metadata": {},
     "output_type": "execute_result"
    }
   ],
   "source": [
    "words = extract_features(sentence)\n",
    "words"
   ]
  },
  {
   "cell_type": "code",
   "execution_count": 23,
   "id": "ecfe0a9a",
   "metadata": {},
   "outputs": [
    {
     "data": {
      "text/plain": [
       "'Most of the good programmers do programming not because they expect to get paid or get adulation by the public, but because it is fun to program.'"
      ]
     },
     "execution_count": 23,
     "metadata": {},
     "output_type": "execute_result"
    }
   ],
   "source": [
    "sentence2"
   ]
  },
  {
   "cell_type": "code",
   "execution_count": 24,
   "id": "14c28cb5",
   "metadata": {},
   "outputs": [
    {
     "data": {
      "text/plain": [
       "['good',\n",
       " 'programm',\n",
       " 'program',\n",
       " 'expect',\n",
       " 'get',\n",
       " 'paid',\n",
       " 'adul',\n",
       " 'public',\n",
       " 'fun',\n",
       " 'program']"
      ]
     },
     "execution_count": 24,
     "metadata": {},
     "output_type": "execute_result"
    }
   ],
   "source": [
    "words = extract_features(sentence2)\n",
    "words"
   ]
  },
  {
   "cell_type": "code",
   "execution_count": 25,
   "id": "b8cd5d2d",
   "metadata": {},
   "outputs": [
    {
     "data": {
      "text/plain": [
       "['everybodi', 'learn', 'program', 'comput', 'teach', 'think']"
      ]
     },
     "execution_count": 25,
     "metadata": {},
     "output_type": "execute_result"
    }
   ],
   "source": [
    "extract_features('Everybody should learn to program a computer, because it teaches you how to think')"
   ]
  },
  {
   "cell_type": "code",
   "execution_count": 26,
   "id": "63e82c47",
   "metadata": {},
   "outputs": [],
   "source": [
    "#implementing bag of words\n",
    "def word_feats(words):\n",
    "    return dict([(word, True) for word in words])"
   ]
  },
  {
   "cell_type": "code",
   "execution_count": 27,
   "id": "ec3dcf02",
   "metadata": {},
   "outputs": [
    {
     "data": {
      "text/plain": [
       "{'good': True,\n",
       " 'programm': True,\n",
       " 'program': True,\n",
       " 'expect': True,\n",
       " 'get': True,\n",
       " 'paid': True,\n",
       " 'adul': True,\n",
       " 'public': True,\n",
       " 'fun': True}"
      ]
     },
     "execution_count": 27,
     "metadata": {},
     "output_type": "execute_result"
    }
   ],
   "source": [
    "word_feats(words)"
   ]
  },
  {
   "cell_type": "code",
   "execution_count": 28,
   "id": "62f56c08",
   "metadata": {},
   "outputs": [],
   "source": [
    "#parsing the whole document\n",
    "def extract_feature_from_doc(data):\n",
    "    result =[]\n",
    "    corpus =[]\n",
    "    #the responses of chatboat\n",
    "    answers={}\n",
    "    for (text,category,answer) in data:\n",
    "        features = extract_features(text)\n",
    "        corpus.append(features)\n",
    "        result.append((word_feats(features), category))\n",
    "        answers[category]= answer\n",
    "    return (result, sum(corpus,[]), answers)"
   ]
  },
  {
   "cell_type": "code",
   "execution_count": 29,
   "id": "4105e9ca",
   "metadata": {},
   "outputs": [
    {
     "data": {
      "text/plain": [
       "([({'input': True, 'user': True}, 'category')],\n",
       " ['input', 'user'],\n",
       " {'category': 'answer to give'})"
      ]
     },
     "execution_count": 29,
     "metadata": {},
     "output_type": "execute_result"
    }
   ],
   "source": [
    "extract_feature_from_doc([['This is the input text from user', 'category', 'answer to give']])"
   ]
  },
  {
   "cell_type": "code",
   "execution_count": 30,
   "id": "795edfb0",
   "metadata": {},
   "outputs": [],
   "source": [
    "def get_content(filename):\n",
    "    doc = os.path.join(filename)\n",
    "    with open(doc,'r') as content_file:\n",
    "        lines = csv.reader(content_file,delimiter='|')\n",
    "        data = [x for x in lines if len(x) ==3]\n",
    "        return data"
   ]
  },
  {
   "cell_type": "code",
   "execution_count": 31,
   "id": "1a3991e8",
   "metadata": {},
   "outputs": [
    {
     "data": {
      "text/plain": [
       "[['Hello',\n",
       "  'Greetings',\n",
       "  'Hello. I am ABHIbot. I will serve your leave enquiries.'],\n",
       " ['hi hello',\n",
       "  'Greetings',\n",
       "  'Hello. I am ABHIbot. I will serve your leave enquiries.'],\n",
       " ['hi ',\n",
       "  'Greetings',\n",
       "  'Hello. I am ABHIbot. I will serve your leave enquiries.'],\n",
       " ['hi',\n",
       "  'Greetings',\n",
       "  'Hello. I am ABHIbot. I will serve your leave enquiries.'],\n",
       " ['hi',\n",
       "  'Greetings',\n",
       "  'Hello. I am ABHIbot. I will serve your leave enquiries.'],\n",
       " ['hey',\n",
       "  'Greetings',\n",
       "  'Hello. I am ABHIbot. I will serve your leave enquiries.'],\n",
       " ['hey',\n",
       "  'Greetings',\n",
       "  'Hello. I am ABHIbot. I will serve your leave enquiries.'],\n",
       " ['hey, hello',\n",
       "  'Greetings',\n",
       "  'Hello. I am ABHIbot. I will serve your leave enquiries.'],\n",
       " ['Good morning',\n",
       "  'Morning',\n",
       "  'Good Morning. I am ABHIbot. I will serve your leave enquiries.'],\n",
       " ['Good afternoon',\n",
       "  'Afternoon',\n",
       "  'Good afternoon, I am ABHIbot. I will serve your leave enquiries.'],\n",
       " ['Good evening',\n",
       "  'Evening',\n",
       "  'Good evening. I am ABHIbot. I will serve your leave enquiries.'],\n",
       " ['Good night', 'Goodbye', 'Good night. Take care.'],\n",
       " ['How are you today?', 'Opening', \"I'm fine! Thank you. How can I help you?\"],\n",
       " ['want help', 'Help', 'How can I help you?'],\n",
       " ['need help', 'Help', 'How can I help you?'],\n",
       " ['help me', 'Help', 'How can I help you?'],\n",
       " [\"I don't want your help.\",\n",
       "  'No-Help',\n",
       "  'Ok sir/madam. No problem. Have a nice day.'],\n",
       " [\"I don't want your assistance\",\n",
       "  'No-Help',\n",
       "  'Ok sir/madam. No problem. Have a nice day.'],\n",
       " ['No help required', 'No-Help', 'Ok sir/madam. No problem. Have a nice day.'],\n",
       " ['It has been great talking to you.',\n",
       "  'Closing',\n",
       "  'Itâ€˜s glad to know that I have been helpful. Have a good day!'],\n",
       " ['great',\n",
       "  'Closing',\n",
       "  \"It's glad to know that I have been helpful. Have a good day\"],\n",
       " ['thank you for your help',\n",
       "  'Closing',\n",
       "  \"It's glad to know that I have been helpful. Have a good day!\"],\n",
       " ['thank you',\n",
       "  'Closing',\n",
       "  \"It's glad to know that I have been helpful. Have a good day!\"],\n",
       " ['thank you very much',\n",
       "  'Closing',\n",
       "  \"It's glad to know that I have been helpful. Have a good day!\"],\n",
       " ['thanks. ',\n",
       "  'Closing',\n",
       "  \"You're welcome!It's glad to know that I have been helpful. Have a good day!\"],\n",
       " ['thanks very much',\n",
       "  'Closing',\n",
       "  \"It's glad to know that I have been helpful. Have a good day!\"],\n",
       " ['How many types of leaves are there?',\n",
       "  'Leaves-Type',\n",
       "  'Currently I know about two: annual and optional leaves.'],\n",
       " ['types of leaves?',\n",
       "  'Leaves-Type',\n",
       "  'Currently I know about two: annual and optional leaves.'],\n",
       " ['type leaves?',\n",
       "  'Leaves-Type',\n",
       "  'Currently I know about two: annual and optional leaves.'],\n",
       " ['leave type?',\n",
       "  'Leaves-Type',\n",
       "  'Currently I know about two: annual and optional leaves.'],\n",
       " ['leaves type?',\n",
       "  'Leaves-Type',\n",
       "  'Currently I know about two: annual and optional leaves.'],\n",
       " ['How many leaves have I taken?',\n",
       "  'Default-Utilized-Annual-Leaves',\n",
       "  'You have used 12 annual leaves.'],\n",
       " ['How many leaves I have already taken?',\n",
       "  'Default-Utilized-Annual-Leaves',\n",
       "  'You have used 12 annual leaves.'],\n",
       " ['how many annual leaves I took?',\n",
       "  'Utilized Annual-Leaves',\n",
       "  'You have taken 12 annual leaves.'],\n",
       " ['How many annual leaves have I taken?',\n",
       "  'Utilized-Annual-Leaves',\n",
       "  'You have taken 12 annual leaves.'],\n",
       " ['How many annual leaves I have already taken?',\n",
       "  'Utilized-Annual-Leaves',\n",
       "  'You have taken 12 annual leaves.'],\n",
       " ['Tell me the annual leaves count I have taken?',\n",
       "  'Utilized-Annual-Leaves',\n",
       "  'You have taken 12 annual leaves.'],\n",
       " ['How many annual leaves have I taken?',\n",
       "  'Utilized-Annual-Leaves',\n",
       "  'You have taken 12 annual leaves.'],\n",
       " ['number of annual leaves taken?',\n",
       "  'Utilized-Annual-Leaves',\n",
       "  'You have taken 12 annual leaves.'],\n",
       " ['annual leaves taken?',\n",
       "  'Utilized-Annual-Leaves',\n",
       "  'You have taken 12 annual leaves.'],\n",
       " ['number of annual leaves already taken?',\n",
       "  'Utilized-Annual-Leaves',\n",
       "  'You have taken. 12 annual leaves.'],\n",
       " ['annual leaves taken?',\n",
       "  'Utilized-Annual-Leaves',\n",
       "  'You have taken 12 annual leaves.'],\n",
       " ['annual leaves already taken?',\n",
       "  'Utilized-Annual-Leaves',\n",
       "  'You have taken 12 annual leaves.'],\n",
       " ['Tell me number of annual leaves I have taken',\n",
       "  'Utilized-Annual-Leaves',\n",
       "  'You have taken 12 annual leaves.'],\n",
       " ['number of annual leaves used?',\n",
       "  'Utilized-Annual-Leaves',\n",
       "  'You have taken 12 annual leaves.'],\n",
       " ['my taken annual leaves',\n",
       "  'Utilized-Annual-Leaves',\n",
       "  'You have taken 12 annual leaves.'],\n",
       " ['annual leaves used?',\n",
       "  'Utilized-Annual-Leaves',\n",
       "  'You have taken 12 annual leaves.'],\n",
       " ['How many optional leaves have I taken',\n",
       "  'Utilized-Optional-Leaves',\n",
       "  'You have taken 1 optional leaves.'],\n",
       " ['How many optional leaves I took',\n",
       "  'Utilized-Optional-Leaves',\n",
       "  'You have taken 1 optional leaves.'],\n",
       " ['optional leaves taken',\n",
       "  'Utilized-Optional-Leaves',\n",
       "  'You have taken 1 optional leaves.'],\n",
       " ['number of optional leaves I have taken?',\n",
       "  'Utilized-Optional-Leaves',\n",
       "  'You have taken 1 optional leaves.'],\n",
       " ['tell me the optional leaves count I have taken',\n",
       "  'Utilized-Optional-Leaves',\n",
       "  'You have taken 1 optional leaves.'],\n",
       " ['tell me number of optional leaves I have taken',\n",
       "  'Utilized-Optional-Leaves',\n",
       "  'You have taken. 1 optional leaves.'],\n",
       " ['can you tell me number of optional leaves I have taken',\n",
       "  'Utilized-Optional-Leaves',\n",
       "  'You have taken 1 optional leaves.'],\n",
       " ['please tell me number of optional leaves I have taken',\n",
       "  'Utilized-Optional-Leaves',\n",
       "  'You have taken 1 optional leaves.'],\n",
       " ['How many optional leaves have I taken?',\n",
       "  'Utilized-Optional-Leaves',\n",
       "  'You have taken 1 optional leaves.'],\n",
       " ['number of optional leaves taken?',\n",
       "  'Utilized-Optional-Leaves',\n",
       "  'You have taken 1 optional leaves.'],\n",
       " ['number of optional leaves already taken?',\n",
       "  'Utilized-Optional-Leaves',\n",
       "  'You have taken 1 optional leaves.'],\n",
       " ['optional leaves taken?',\n",
       "  'Utilized-Optional-Leaves',\n",
       "  'You have taken 1 optional leaves.'],\n",
       " ['optional leaves already taken?',\n",
       "  'Utilized-Optional-Leaves',\n",
       "  'You have taken 1 optional leaves.'],\n",
       " ['please tell me number of optional leaves I have used. ',\n",
       "  'Utilized-Optional-Leaves',\n",
       "  'You have taken 1 optional leaves.'],\n",
       " ['please tell me number of optional leaves I have used',\n",
       "  'Utilized-Optional-Leaves',\n",
       "  'You have taken 1 optional leaves.'],\n",
       " ['tell me the optional leaves count I have used. ',\n",
       "  'Utilized-Optional-Leaves',\n",
       "  'You have taken 1 optional leaves.'],\n",
       " ['tell me the optional leaves count I have used',\n",
       "  'Utilized-Optional-Leaves',\n",
       "  'You have taken 1 optional leaves.'],\n",
       " ['the optional leaves count I have used',\n",
       "  'Utilized-Optional-Leaves',\n",
       "  'You have taken 1 optional leaves.'],\n",
       " ['the optional leaves count I have used?',\n",
       "  'Utilized-Optional-Leaves',\n",
       "  'You have taken 1 optional leaves.'],\n",
       " ['tell me the optional leaves count I have taken',\n",
       "  'Utilized-Optional-Leaves',\n",
       "  'You have taken 1 optional leaves.'],\n",
       " ['tell me the optional leaves count I have taken',\n",
       "  'Utilized-Optional-Leaves',\n",
       "  'You have taken 1 optional leaves.'],\n",
       " ['tell me the optional leaves count I have taken',\n",
       "  'Utilized-Optional-Leaves',\n",
       "  'You have taken 1 optional leaves.'],\n",
       " ['How many optional leaves have I used',\n",
       "  'Utilized-Optional-Leaves',\n",
       "  'You have taken 1 optional leaves.'],\n",
       " ['How many optional leaves have I used?',\n",
       "  'Utilized-Optional-Leaves',\n",
       "  'You have taken 1 optional leaves.'],\n",
       " ['number of optional leaves used?',\n",
       "  'Utilized-Optional-Leaves',\n",
       "  'You have taken 1 optional leaves.'],\n",
       " ['remaining annual leaves. ',\n",
       "  'Balance-Annual-Leaves',\n",
       "  'You have 25 annual leaves remaining.'],\n",
       " ['annual leaves remaining. ',\n",
       "  'Balance-Annual-Leaves',\n",
       "  'You have 25 annual leaves remaining.'],\n",
       " ['number of annual leaves remaining. ',\n",
       "  'Balance-Annual-Leaves',\n",
       "  'You have 25 annual leaves remaining.'],\n",
       " ['number of annual leaves T have?',\n",
       "  'Balance-Annual-Leaves',\n",
       "  'You have 25 annual leaves remaining.'],\n",
       " ['annual leaves remaining. ',\n",
       "  'Balance-Annual-Leaves',\n",
       "  'You have 25 annual leaves remaining.'],\n",
       " ['Please tell me the annual leaves count I have remaining. ',\n",
       "  'Balance-Annual-Leaves',\n",
       "  'You have 25 annual leaves remaining.'],\n",
       " ['Tell me the annual leaves count I have remaining. ',\n",
       "  'Balance-Annual-Leaves',\n",
       "  'You have 25 annual leaves remaining.'],\n",
       " ['the annual leaves count I have remaining. ',\n",
       "  'Balance-Annual-Leaves',\n",
       "  'You have 25 annual leaves remaining.'],\n",
       " ['my annual leaves count remaining. ',\n",
       "  'Balance-Annual-Leaves',\n",
       "  'You have 25 annual leaves remaining.'],\n",
       " ['Tell me my annual leave balance. ',\n",
       "  'Balance-Annual-Leaves',\n",
       "  'You have 25 annual leaves remaining.'],\n",
       " ['annual leave balance. ',\n",
       "  'Balance-Annual-Leaves',\n",
       "  'You have 25 annual leaves remaining.'],\n",
       " ['annual leaves. ',\n",
       "  'Balance-Annual-Leaves',\n",
       "  'You have 25 annual leaves remaining.'],\n",
       " ['can you tell me number of annual leaves I have remaining',\n",
       "  'Balance-Annual-Leaves',\n",
       "  'You have 25 annual leaves remaining.'],\n",
       " ['please tell me number of annual leaves I have remaining',\n",
       "  'Balance-Annual-Leaves',\n",
       "  'You have 25 annual leaves remaining.'],\n",
       " ['How many optional leaves are remaining?',\n",
       "  'Balance-Optional-Leaves',\n",
       "  'You have 2 optional leaves remaining.'],\n",
       " ['optional leaves remaining?',\n",
       "  'Balance-Optional-Leaves',\n",
       "  'You have 2 optional leaves remaining.'],\n",
       " ['number of optional leaves I have remaining?',\n",
       "  'Balance-Optional-Leaves',\n",
       "  'You have 2 optional leaves remaining.'],\n",
       " ['How many optional leaves do I have?',\n",
       "  'Balance-Optional-Leaves',\n",
       "  'You have 2 optional leaves remaining.'],\n",
       " ['How many optional leaves do I have',\n",
       "  'Balance-Optional-Leaves',\n",
       "  'You have 2 optional leaves remaining.'],\n",
       " ['Tell me my optional leave balance?',\n",
       "  'Balance-Optional-Leaves',\n",
       "  'You have 2 optional leaves remaining.'],\n",
       " ['Tell me my optional leaves left?',\n",
       "  'Balance-Optional-Leaves',\n",
       "  'You have 2 optional leaves remaining.'],\n",
       " ['How many optional leaves can I take?',\n",
       "  'Balance-Optional-Leaves',\n",
       "  'You have 2 optional leaves remaining.'],\n",
       " ['optional leaves take?',\n",
       "  'Balance-Optional-Leaves',\n",
       "  'You have 2 optional leaves remaining.'],\n",
       " ['How many optional leaves I_have?',\n",
       "  'Balance-Optional-Leaves',\n",
       "  'You have 2 optional leaves remaining.'],\n",
       " ['Tell me my optional leave balance. ',\n",
       "  'Balance-Optional-Leaves',\n",
       "  'You have 2 optional leaves remaining.'],\n",
       " ['tell me the optional leaves count I have remaining',\n",
       "  'Balence-Optional-Leaves',\n",
       "  'You have 2 optional leaves remaining.'],\n",
       " ['optional leaves. ',\n",
       "  'Balance-Optional-Leaves',\n",
       "  'You have 2 optional leaves remaining.'],\n",
       " ['optional leaves?',\n",
       "  'Balance-Optional-Leaves',\n",
       "  'You have 2 optional leaves remaining.'],\n",
       " ['optional leave balance',\n",
       "  'Balance-Optional-Leaves',\n",
       "  'You have 2 optional leaves remaining.'],\n",
       " ['optional ',\n",
       "  'Balance-Optional-Leaves',\n",
       "  'You have 2 optional leaves remaining.'],\n",
       " ['Tell me the optional leaves count I have remaining. ',\n",
       "  'Balance-Optional-Leaves',\n",
       "  'You have 2 optional leaves remaining.'],\n",
       " ['the optional leaves count I have remaining?',\n",
       "  'Balance-Optional-Leaves',\n",
       "  'You have 2 optional leaves remaining.'],\n",
       " ['my optional leaves count remaining. ',\n",
       "  'Balance-Optional-Leaves',\n",
       "  'You have 2 optional leaves remaining.'],\n",
       " ['please tell me number of optional leaves I have remaining',\n",
       "  'Balance-Optional-Leaves',\n",
       "  'You have 2 optional leaves remaining.'],\n",
       " ['please tell me number of optional leaves I have remaining. ',\n",
       "  'Balance-Optional-Leaves',\n",
       "  'You have 2 optional leaves remaining.'],\n",
       " ['number of optional leaves I have remaining. ',\n",
       "  'Balance-Optional-Leaves',\n",
       "  'You have 2 optional leaves remaining.'],\n",
       " ['number of optional leaves I have',\n",
       "  'Balance-Optional-Leaves',\n",
       "  'You have 2 optional leaves remaining.'],\n",
       " ['number of optional leaves?',\n",
       "  'Balance-Optional-Leaves',\n",
       "  'You have 2 optional leaves remaining.'],\n",
       " ['How many carry forward leaves do I have?',\n",
       "  'CF',\n",
       "  'You have 30 carry forward leaves.'],\n",
       " ['number of carry forward leaves I have?',\n",
       "  'CF',\n",
       "  'You have 30 carry forward leaves.'],\n",
       " ['tell me the carry forward leaves count I have',\n",
       "  'CF',\n",
       "  'You have 30 carry forward leaves.'],\n",
       " ['tell me number of carry forward leaves I have',\n",
       "  'CF',\n",
       "  'You have 30 carry forward leaves.'],\n",
       " ['can you tell me number of carry forward leaves I have',\n",
       "  'CF',\n",
       "  'You have 30 carry forward leaves.'],\n",
       " ['please tell me number of carry forward leaves I have',\n",
       "  'CF',\n",
       "  'You have 30 carry forward leaves.'],\n",
       " ['How many carry forwards do I have from previous year?',\n",
       "  'CF',\n",
       "  'You have 30 carry forward leaves.'],\n",
       " ['Tell me my carry forward leaves from previous year',\n",
       "  'CF',\n",
       "  'You have 30 carry forward leaves.'],\n",
       " ['Tell me my carry forward leaves',\n",
       "  'CF',\n",
       "  'You have 30 carry forward leaves.'],\n",
       " ['Tell me carry forward leaves', 'CF', 'You have 30 carry forward leaves.'],\n",
       " ['carry forward leaves', 'CF', 'You have 30 carry forward leaves.'],\n",
       " ['carry forward leave', 'CF', 'You have 30 carry forward leaves.'],\n",
       " ['carry forward', 'CF', 'You have 30 carry forward leaves.'],\n",
       " ['previous year carry forward leaves',\n",
       "  'CF',\n",
       "  'You have 30 carry forward leaves.']]"
      ]
     },
     "execution_count": 31,
     "metadata": {},
     "output_type": "execute_result"
    }
   ],
   "source": [
    "filename= 'D:/DataScience/NLP/ABHIChatbotData.txt'\n",
    "data = get_content(filename)\n",
    "data"
   ]
  },
  {
   "cell_type": "code",
   "execution_count": 32,
   "id": "40632079",
   "metadata": {},
   "outputs": [],
   "source": [
    "features_data, corpus, answers = extract_feature_from_doc(data)"
   ]
  },
  {
   "cell_type": "code",
   "execution_count": 33,
   "id": "5d95d1f9",
   "metadata": {},
   "outputs": [
    {
     "name": "stdout",
     "output_type": "stream",
     "text": [
      "({'number': True, 'option': True, 'leav': True, 'taken': True}, 'Utilized-Optional-Leaves')\n"
     ]
    }
   ],
   "source": [
    "print(features_data[50])"
   ]
  },
  {
   "cell_type": "code",
   "execution_count": 34,
   "id": "6655c5d4",
   "metadata": {},
   "outputs": [
    {
     "data": {
      "text/plain": [
       "['hello',\n",
       " 'hi',\n",
       " 'hello',\n",
       " 'hi',\n",
       " 'hi',\n",
       " 'hi',\n",
       " 'hey',\n",
       " 'hey',\n",
       " 'hey',\n",
       " 'hello',\n",
       " 'good',\n",
       " 'morn',\n",
       " 'good',\n",
       " 'afternoon',\n",
       " 'good',\n",
       " 'even',\n",
       " 'good',\n",
       " 'night',\n",
       " 'today',\n",
       " 'want',\n",
       " 'help',\n",
       " 'need',\n",
       " 'help',\n",
       " 'help',\n",
       " 'want',\n",
       " 'help',\n",
       " 'want',\n",
       " 'assist',\n",
       " 'help',\n",
       " 'great',\n",
       " 'talk',\n",
       " 'great',\n",
       " 'thank',\n",
       " 'help',\n",
       " 'thank',\n",
       " 'thank',\n",
       " 'much',\n",
       " 'thank',\n",
       " 'thank',\n",
       " 'much',\n",
       " 'mani',\n",
       " 'type',\n",
       " 'leav',\n",
       " 'type',\n",
       " 'leav',\n",
       " 'type',\n",
       " 'leav',\n",
       " 'type',\n",
       " 'leav',\n",
       " 'type',\n",
       " 'mani',\n",
       " 'leav',\n",
       " 'taken',\n",
       " 'mani',\n",
       " 'leav',\n",
       " 'alreadi',\n",
       " 'taken',\n",
       " 'mani',\n",
       " 'annual',\n",
       " 'leav',\n",
       " 'mani',\n",
       " 'annual',\n",
       " 'leav',\n",
       " 'taken',\n",
       " 'mani',\n",
       " 'annual',\n",
       " 'leav',\n",
       " 'alreadi',\n",
       " 'taken',\n",
       " 'annual',\n",
       " 'leav',\n",
       " 'count',\n",
       " 'taken',\n",
       " 'mani',\n",
       " 'annual',\n",
       " 'leav',\n",
       " 'taken',\n",
       " 'number',\n",
       " 'annual',\n",
       " 'leav',\n",
       " 'taken',\n",
       " 'annual',\n",
       " 'leav',\n",
       " 'taken',\n",
       " 'number',\n",
       " 'annual',\n",
       " 'leav',\n",
       " 'alreadi',\n",
       " 'taken',\n",
       " 'annual',\n",
       " 'leav',\n",
       " 'taken',\n",
       " 'annual',\n",
       " 'leav',\n",
       " 'alreadi',\n",
       " 'taken',\n",
       " 'number',\n",
       " 'annual',\n",
       " 'leav',\n",
       " 'taken',\n",
       " 'number',\n",
       " 'annual',\n",
       " 'leav',\n",
       " 'taken',\n",
       " 'annual',\n",
       " 'leav',\n",
       " 'annual',\n",
       " 'leav',\n",
       " 'mani',\n",
       " 'option',\n",
       " 'leav',\n",
       " 'taken',\n",
       " 'mani',\n",
       " 'option',\n",
       " 'leav',\n",
       " 'option',\n",
       " 'leav',\n",
       " 'taken',\n",
       " 'number',\n",
       " 'option',\n",
       " 'leav',\n",
       " 'taken',\n",
       " 'option',\n",
       " 'leav',\n",
       " 'count',\n",
       " 'taken',\n",
       " 'number',\n",
       " 'option',\n",
       " 'leav',\n",
       " 'taken',\n",
       " 'number',\n",
       " 'option',\n",
       " 'leav',\n",
       " 'taken',\n",
       " 'number',\n",
       " 'option',\n",
       " 'leav',\n",
       " 'taken',\n",
       " 'mani',\n",
       " 'option',\n",
       " 'leav',\n",
       " 'taken',\n",
       " 'number',\n",
       " 'option',\n",
       " 'leav',\n",
       " 'taken',\n",
       " 'number',\n",
       " 'option',\n",
       " 'leav',\n",
       " 'alreadi',\n",
       " 'taken',\n",
       " 'option',\n",
       " 'leav',\n",
       " 'taken',\n",
       " 'option',\n",
       " 'leav',\n",
       " 'alreadi',\n",
       " 'taken',\n",
       " 'number',\n",
       " 'option',\n",
       " 'leav',\n",
       " 'number',\n",
       " 'option',\n",
       " 'leav',\n",
       " 'option',\n",
       " 'leav',\n",
       " 'count',\n",
       " 'use',\n",
       " 'option',\n",
       " 'leav',\n",
       " 'count',\n",
       " 'use',\n",
       " 'option',\n",
       " 'leav',\n",
       " 'count',\n",
       " 'use',\n",
       " 'option',\n",
       " 'leav',\n",
       " 'count',\n",
       " 'use',\n",
       " 'option',\n",
       " 'leav',\n",
       " 'count',\n",
       " 'taken',\n",
       " 'option',\n",
       " 'leav',\n",
       " 'count',\n",
       " 'taken',\n",
       " 'option',\n",
       " 'leav',\n",
       " 'count',\n",
       " 'taken',\n",
       " 'mani',\n",
       " 'option',\n",
       " 'leav',\n",
       " 'mani',\n",
       " 'option',\n",
       " 'leav',\n",
       " 'number',\n",
       " 'option',\n",
       " 'leav',\n",
       " 'remain',\n",
       " 'annual',\n",
       " 'leav',\n",
       " 'annual',\n",
       " 'leav',\n",
       " 'remain',\n",
       " 'number',\n",
       " 'annual',\n",
       " 'leav',\n",
       " 'remain',\n",
       " 'number',\n",
       " 'annual',\n",
       " 'leav',\n",
       " 'annual',\n",
       " 'leav',\n",
       " 'remain',\n",
       " 'annual',\n",
       " 'leav',\n",
       " 'count',\n",
       " 'remain',\n",
       " 'annual',\n",
       " 'leav',\n",
       " 'count',\n",
       " 'remain',\n",
       " 'annual',\n",
       " 'leav',\n",
       " 'count',\n",
       " 'remain',\n",
       " 'annual',\n",
       " 'leav',\n",
       " 'count',\n",
       " 'remain',\n",
       " 'annual',\n",
       " 'leav',\n",
       " 'balanc',\n",
       " 'annual',\n",
       " 'leav',\n",
       " 'balanc',\n",
       " 'annual',\n",
       " 'leav',\n",
       " 'number',\n",
       " 'annual',\n",
       " 'leav',\n",
       " 'remain',\n",
       " 'number',\n",
       " 'annual',\n",
       " 'leav',\n",
       " 'remain',\n",
       " 'mani',\n",
       " 'option',\n",
       " 'leav',\n",
       " 'remain',\n",
       " 'option',\n",
       " 'leav',\n",
       " 'remain',\n",
       " 'number',\n",
       " 'option',\n",
       " 'leav',\n",
       " 'remain',\n",
       " 'mani',\n",
       " 'option',\n",
       " 'leav',\n",
       " 'mani',\n",
       " 'option',\n",
       " 'leav',\n",
       " 'option',\n",
       " 'leav',\n",
       " 'balanc',\n",
       " 'option',\n",
       " 'leav',\n",
       " 'mani',\n",
       " 'option',\n",
       " 'leav',\n",
       " 'take',\n",
       " 'option',\n",
       " 'leav',\n",
       " 'take',\n",
       " 'mani',\n",
       " 'option',\n",
       " 'leav',\n",
       " 'i_hav',\n",
       " 'option',\n",
       " 'leav',\n",
       " 'balanc',\n",
       " 'option',\n",
       " 'leav',\n",
       " 'count',\n",
       " 'remain',\n",
       " 'option',\n",
       " 'leav',\n",
       " 'option',\n",
       " 'leav',\n",
       " 'option',\n",
       " 'leav',\n",
       " 'balanc',\n",
       " 'option',\n",
       " 'option',\n",
       " 'leav',\n",
       " 'count',\n",
       " 'remain',\n",
       " 'option',\n",
       " 'leav',\n",
       " 'count',\n",
       " 'remain',\n",
       " 'option',\n",
       " 'leav',\n",
       " 'count',\n",
       " 'remain',\n",
       " 'number',\n",
       " 'option',\n",
       " 'leav',\n",
       " 'remain',\n",
       " 'number',\n",
       " 'option',\n",
       " 'leav',\n",
       " 'remain',\n",
       " 'number',\n",
       " 'option',\n",
       " 'leav',\n",
       " 'remain',\n",
       " 'number',\n",
       " 'option',\n",
       " 'leav',\n",
       " 'number',\n",
       " 'option',\n",
       " 'leav',\n",
       " 'mani',\n",
       " 'carri',\n",
       " 'forward',\n",
       " 'leav',\n",
       " 'number',\n",
       " 'carri',\n",
       " 'forward',\n",
       " 'leav',\n",
       " 'tell',\n",
       " 'carri',\n",
       " 'forward',\n",
       " 'leav',\n",
       " 'count',\n",
       " 'number',\n",
       " 'forward',\n",
       " 'leav',\n",
       " 'number',\n",
       " 'forward',\n",
       " 'leav',\n",
       " 'number',\n",
       " 'forward',\n",
       " 'leav',\n",
       " 'mani',\n",
       " 'carri',\n",
       " 'forward',\n",
       " 'previous',\n",
       " 'year',\n",
       " 'tell',\n",
       " 'carri',\n",
       " 'forward',\n",
       " 'leav',\n",
       " 'previous',\n",
       " 'year',\n",
       " 'tell',\n",
       " 'carri',\n",
       " 'forward',\n",
       " 'leav',\n",
       " 'tell',\n",
       " 'carri',\n",
       " 'forward',\n",
       " 'leav',\n",
       " 'forward',\n",
       " 'leav',\n",
       " 'carri',\n",
       " 'forward',\n",
       " 'leav',\n",
       " 'carri',\n",
       " 'forward',\n",
       " 'previous',\n",
       " 'year',\n",
       " 'carri',\n",
       " 'forward',\n",
       " 'leav']"
      ]
     },
     "execution_count": 34,
     "metadata": {},
     "output_type": "execute_result"
    }
   ],
   "source": [
    "corpus"
   ]
  },
  {
   "cell_type": "code",
   "execution_count": 35,
   "id": "e9689ae9",
   "metadata": {},
   "outputs": [
    {
     "data": {
      "text/plain": [
       "{'Greetings': 'Hello. I am ABHIbot. I will serve your leave enquiries.',\n",
       " 'Morning': 'Good Morning. I am ABHIbot. I will serve your leave enquiries.',\n",
       " 'Afternoon': 'Good afternoon, I am ABHIbot. I will serve your leave enquiries.',\n",
       " 'Evening': 'Good evening. I am ABHIbot. I will serve your leave enquiries.',\n",
       " 'Goodbye': 'Good night. Take care.',\n",
       " 'Opening': \"I'm fine! Thank you. How can I help you?\",\n",
       " 'Help': 'How can I help you?',\n",
       " 'No-Help': 'Ok sir/madam. No problem. Have a nice day.',\n",
       " 'Closing': \"It's glad to know that I have been helpful. Have a good day!\",\n",
       " 'Leaves-Type': 'Currently I know about two: annual and optional leaves.',\n",
       " 'Default-Utilized-Annual-Leaves': 'You have used 12 annual leaves.',\n",
       " 'Utilized Annual-Leaves': 'You have taken 12 annual leaves.',\n",
       " 'Utilized-Annual-Leaves': 'You have taken 12 annual leaves.',\n",
       " 'Utilized-Optional-Leaves': 'You have taken 1 optional leaves.',\n",
       " 'Balance-Annual-Leaves': 'You have 25 annual leaves remaining.',\n",
       " 'Balance-Optional-Leaves': 'You have 2 optional leaves remaining.',\n",
       " 'Balence-Optional-Leaves': 'You have 2 optional leaves remaining.',\n",
       " 'CF': 'You have 30 carry forward leaves.'}"
      ]
     },
     "execution_count": 35,
     "metadata": {},
     "output_type": "execute_result"
    }
   ],
   "source": [
    "answers"
   ]
  },
  {
   "cell_type": "code",
   "execution_count": 36,
   "id": "6990a02c",
   "metadata": {},
   "outputs": [],
   "source": [
    "#Training a model using these features\n",
    "split_ratio = 0.8\n",
    "\n",
    "def split_dataset(data, split_ratio):\n",
    "    random.shuffle(data)\n",
    "    data_length = len(data)\n",
    "    train_split = int(data_length * split_ratio)\n",
    "    return (data[:train_split]), (data[train_split:])"
   ]
  },
  {
   "cell_type": "code",
   "execution_count": 37,
   "id": "731002d0",
   "metadata": {},
   "outputs": [
    {
     "data": {
      "text/plain": [
       "[({'number': True, 'forward': True, 'leav': True}, 'CF'),\n",
       " ({'number': True, 'option': True, 'leav': True, 'remain': True},\n",
       "  'Balance-Optional-Leaves'),\n",
       " ({'great': True}, 'Closing'),\n",
       " ({'great': True, 'talk': True}, 'Closing'),\n",
       " ({'mani': True,\n",
       "   'carri': True,\n",
       "   'forward': True,\n",
       "   'previous': True,\n",
       "   'year': True},\n",
       "  'CF'),\n",
       " ({'annual': True, 'leav': True}, 'Balance-Annual-Leaves'),\n",
       " ({'mani': True, 'option': True, 'leav': True, 'taken': True},\n",
       "  'Utilized-Optional-Leaves'),\n",
       " ({'thank': True}, 'Closing'),\n",
       " ({'annual': True, 'leav': True, 'balanc': True}, 'Balance-Annual-Leaves'),\n",
       " ({'mani': True, 'option': True, 'leav': True}, 'Balance-Optional-Leaves'),\n",
       " ({'type': True, 'leav': True}, 'Leaves-Type'),\n",
       " ({'mani': True, 'option': True, 'leav': True, 'i_hav': True},\n",
       "  'Balance-Optional-Leaves'),\n",
       " ({'number': True,\n",
       "   'option': True,\n",
       "   'leav': True,\n",
       "   'alreadi': True,\n",
       "   'taken': True},\n",
       "  'Utilized-Optional-Leaves'),\n",
       " ({'good': True, 'afternoon': True}, 'Afternoon'),\n",
       " ({'annual': True, 'leav': True, 'count': True, 'remain': True},\n",
       "  'Balance-Annual-Leaves'),\n",
       " ({'annual': True, 'leav': True, 'count': True, 'taken': True},\n",
       "  'Utilized-Annual-Leaves'),\n",
       " ({'hey': True}, 'Greetings'),\n",
       " ({'number': True, 'option': True, 'leav': True}, 'Balance-Optional-Leaves'),\n",
       " ({'hi': True}, 'Greetings'),\n",
       " ({'number': True, 'option': True, 'leav': True}, 'Utilized-Optional-Leaves'),\n",
       " ({'mani': True, 'option': True, 'leav': True}, 'Utilized-Optional-Leaves'),\n",
       " ({'tell': True, 'carri': True, 'forward': True, 'leav': True, 'count': True},\n",
       "  'CF'),\n",
       " ({'remain': True, 'annual': True, 'leav': True}, 'Balance-Annual-Leaves'),\n",
       " ({'number': True, 'annual': True, 'leav': True}, 'Balance-Annual-Leaves'),\n",
       " ({'option': True, 'leav': True, 'count': True, 'remain': True},\n",
       "  'Balance-Optional-Leaves'),\n",
       " ({'leav': True, 'type': True}, 'Leaves-Type'),\n",
       " ({'carri': True, 'forward': True}, 'CF'),\n",
       " ({'thank': True, 'much': True}, 'Closing'),\n",
       " ({'number': True, 'annual': True, 'leav': True, 'taken': True},\n",
       "  'Utilized-Annual-Leaves'),\n",
       " ({'number': True, 'option': True, 'leav': True, 'taken': True},\n",
       "  'Utilized-Optional-Leaves'),\n",
       " ({'number': True, 'option': True, 'leav': True, 'remain': True},\n",
       "  'Balance-Optional-Leaves'),\n",
       " ({'annual': True, 'leav': True, 'remain': True}, 'Balance-Annual-Leaves'),\n",
       " ({'thank': True, 'much': True}, 'Closing'),\n",
       " ({'hi': True}, 'Greetings'),\n",
       " ({'hi': True, 'hello': True}, 'Greetings'),\n",
       " ({'option': True, 'leav': True}, 'Balance-Optional-Leaves'),\n",
       " ({'hello': True}, 'Greetings'),\n",
       " ({'mani': True, 'annual': True, 'leav': True, 'taken': True},\n",
       "  'Utilized-Annual-Leaves'),\n",
       " ({'taken': True, 'annual': True, 'leav': True}, 'Utilized-Annual-Leaves'),\n",
       " ({'option': True, 'leav': True, 'count': True, 'use': True},\n",
       "  'Utilized-Optional-Leaves'),\n",
       " ({'need': True, 'help': True}, 'Help'),\n",
       " ({'want': True, 'assist': True}, 'No-Help'),\n",
       " ({'option': True, 'leav': True, 'count': True, 'taken': True},\n",
       "  'Utilized-Optional-Leaves'),\n",
       " ({'number': True, 'option': True, 'leav': True}, 'Balance-Optional-Leaves'),\n",
       " ({'tell': True,\n",
       "   'carri': True,\n",
       "   'forward': True,\n",
       "   'leav': True,\n",
       "   'previous': True,\n",
       "   'year': True},\n",
       "  'CF'),\n",
       " ({'option': True, 'leav': True, 'balanc': True}, 'Balance-Optional-Leaves'),\n",
       " ({'carri': True, 'forward': True, 'leav': True}, 'CF'),\n",
       " ({'option': True, 'leav': True, 'count': True, 'remain': True},\n",
       "  'Balance-Optional-Leaves'),\n",
       " ({'option': True, 'leav': True}, 'Balance-Optional-Leaves'),\n",
       " ({'number': True, 'annual': True, 'leav': True}, 'Utilized-Annual-Leaves'),\n",
       " ({'number': True, 'option': True, 'leav': True, 'remain': True},\n",
       "  'Balance-Optional-Leaves'),\n",
       " ({'option': True, 'leav': True, 'balanc': True}, 'Balance-Optional-Leaves'),\n",
       " ({'annual': True, 'leav': True, 'alreadi': True, 'taken': True},\n",
       "  'Utilized-Annual-Leaves'),\n",
       " ({'annual': True, 'leav': True, 'remain': True}, 'Balance-Annual-Leaves'),\n",
       " ({'number': True, 'forward': True, 'leav': True}, 'CF'),\n",
       " ({'number': True, 'option': True, 'leav': True, 'taken': True},\n",
       "  'Utilized-Optional-Leaves'),\n",
       " ({'mani': True, 'option': True, 'leav': True, 'take': True},\n",
       "  'Balance-Optional-Leaves'),\n",
       " ({'forward': True, 'leav': True}, 'CF'),\n",
       " ({'type': True, 'leav': True}, 'Leaves-Type'),\n",
       " ({'number': True,\n",
       "   'annual': True,\n",
       "   'leav': True,\n",
       "   'alreadi': True,\n",
       "   'taken': True},\n",
       "  'Utilized-Annual-Leaves'),\n",
       " ({'mani': True, 'option': True, 'leav': True, 'taken': True},\n",
       "  'Utilized-Optional-Leaves'),\n",
       " ({'option': True, 'leav': True, 'count': True, 'remain': True},\n",
       "  'Balance-Optional-Leaves'),\n",
       " ({'help': True}, 'No-Help'),\n",
       " ({'option': True, 'leav': True, 'taken': True}, 'Utilized-Optional-Leaves'),\n",
       " ({'number': True, 'annual': True, 'leav': True, 'remain': True},\n",
       "  'Balance-Annual-Leaves'),\n",
       " ({'option': True}, 'Balance-Optional-Leaves'),\n",
       " ({'mani': True, 'option': True, 'leav': True, 'remain': True},\n",
       "  'Balance-Optional-Leaves'),\n",
       " ({'annual': True, 'leav': True}, 'Utilized-Annual-Leaves'),\n",
       " ({'option': True, 'leav': True, 'count': True, 'use': True},\n",
       "  'Utilized-Optional-Leaves'),\n",
       " ({'tell': True, 'carri': True, 'forward': True, 'leav': True}, 'CF'),\n",
       " ({'want': True, 'help': True}, 'No-Help'),\n",
       " ({'annual': True, 'leav': True, 'taken': True}, 'Utilized-Annual-Leaves'),\n",
       " ({'number': True, 'annual': True, 'leav': True, 'remain': True},\n",
       "  'Balance-Annual-Leaves'),\n",
       " ({'number': True, 'option': True, 'leav': True}, 'Utilized-Optional-Leaves'),\n",
       " ({'tell': True, 'carri': True, 'forward': True, 'leav': True}, 'CF'),\n",
       " ({'number': True, 'option': True, 'leav': True}, 'Utilized-Optional-Leaves'),\n",
       " ({'option': True, 'leav': True, 'count': True, 'taken': True},\n",
       "  'Utilized-Optional-Leaves'),\n",
       " ({'annual': True, 'leav': True, 'count': True, 'remain': True},\n",
       "  'Balance-Annual-Leaves'),\n",
       " ({'number': True, 'option': True, 'leav': True, 'taken': True},\n",
       "  'Utilized-Optional-Leaves'),\n",
       " ({'good': True, 'night': True}, 'Goodbye'),\n",
       " ({'mani': True, 'leav': True, 'alreadi': True, 'taken': True},\n",
       "  'Default-Utilized-Annual-Leaves'),\n",
       " ({'thank': True, 'help': True}, 'Closing'),\n",
       " ({'option': True, 'leav': True, 'balanc': True}, 'Balance-Optional-Leaves'),\n",
       " ({'option': True, 'leav': True, 'alreadi': True, 'taken': True},\n",
       "  'Utilized-Optional-Leaves'),\n",
       " ({'number': True, 'forward': True, 'leav': True}, 'CF'),\n",
       " ({'mani': True, 'carri': True, 'forward': True, 'leav': True}, 'CF'),\n",
       " ({'mani': True, 'leav': True, 'taken': True},\n",
       "  'Default-Utilized-Annual-Leaves'),\n",
       " ({'mani': True, 'annual': True, 'leav': True, 'alreadi': True, 'taken': True},\n",
       "  'Utilized-Annual-Leaves'),\n",
       " ({'option': True, 'leav': True, 'count': True, 'use': True},\n",
       "  'Utilized-Optional-Leaves'),\n",
       " ({'annual': True, 'leav': True, 'taken': True}, 'Utilized-Annual-Leaves'),\n",
       " ({'option': True, 'leav': True, 'count': True, 'use': True},\n",
       "  'Utilized-Optional-Leaves'),\n",
       " ({'option': True, 'leav': True, 'count': True, 'taken': True},\n",
       "  'Utilized-Optional-Leaves'),\n",
       " ({'type': True}, 'Leaves-Type'),\n",
       " ({'number': True, 'option': True, 'leav': True, 'taken': True},\n",
       "  'Utilized-Optional-Leaves'),\n",
       " ({'mani': True, 'option': True, 'leav': True}, 'Utilized-Optional-Leaves'),\n",
       " ({'good': True, 'morn': True}, 'Morning'),\n",
       " ({'option': True, 'leav': True, 'remain': True}, 'Balance-Optional-Leaves'),\n",
       " ({'previous': True,\n",
       "   'year': True,\n",
       "   'carri': True,\n",
       "   'forward': True,\n",
       "   'leav': True},\n",
       "  'CF'),\n",
       " ({'mani': True, 'annual': True, 'leav': True, 'taken': True},\n",
       "  'Utilized-Annual-Leaves')]"
      ]
     },
     "execution_count": 37,
     "metadata": {},
     "output_type": "execute_result"
    }
   ],
   "source": [
    "training_data, test_data = split_dataset(features_data, split_ratio)\n",
    "training_data"
   ]
  },
  {
   "cell_type": "code",
   "execution_count": 38,
   "id": "ebde4489",
   "metadata": {},
   "outputs": [],
   "source": [
    "#save the data\n",
    "np.save('training_data', training_data)\n",
    "np.save('test_data', test_data)"
   ]
  },
  {
   "cell_type": "code",
   "execution_count": 39,
   "id": "6abc6cc7",
   "metadata": {},
   "outputs": [],
   "source": [
    "#classification using Decision tree\n",
    "training_data = np.load('training_data.npy', allow_pickle=True)\n",
    "test_data = np.load('test_data.npy', allow_pickle=True)"
   ]
  },
  {
   "cell_type": "code",
   "execution_count": 43,
   "id": "25065098",
   "metadata": {},
   "outputs": [],
   "source": [
    "def train_using_decision_tree(training_data, test_data):\n",
    "    classifier =nltk.classify.DecisionTreeClassifier.train(training_data, entropy_cutoff=0.6, support_cutoff=6)\n",
    "    classifier_name = type(classifier).__name__\n",
    "    training_set_accuracy = nltk.classify.accuracy(classifier, training_data)\n",
    "    print('training set accuracy:', training_set_accuracy)\n",
    "    test_set_accuracy = nltk.classify.accuracy(classifier, test_data)\n",
    "    print('test set accuracy :', test_set_accuracy)\n",
    "    return classifier, classifier_name, test_set_accuracy, training_set_accuracy"
   ]
  },
  {
   "cell_type": "code",
   "execution_count": 44,
   "id": "e26b3603",
   "metadata": {},
   "outputs": [
    {
     "name": "stdout",
     "output_type": "stream",
     "text": [
      "training set accuracy: 0.9191919191919192\n",
      "test set accuracy : 0.72\n"
     ]
    }
   ],
   "source": [
    "dtclassifier, classifer_name, test_set_accuracy, training_set_accuracy = train_using_decision_tree(training_data, test_data)"
   ]
  },
  {
   "cell_type": "code",
   "execution_count": 47,
   "id": "7ed982ac",
   "metadata": {},
   "outputs": [],
   "source": [
    "def train_using_naiveBayes(training_data, test_data):\n",
    "    classifier =nltk.classify.NaiveBayesClassifier.train(training_data)\n",
    "    classifier_name = type(classifier).__name__\n",
    "    training_set_accuracy = nltk.classify.accuracy(classifier, training_data)\n",
    "    print('training set accuracy:', training_set_accuracy)\n",
    "    test_set_accuracy = nltk.classify.accuracy(classifier, test_data)\n",
    "    print('test set accuracy :', test_set_accuracy)\n",
    "    return classifier, classifier_name, test_set_accuracy, training_set_accuracy"
   ]
  },
  {
   "cell_type": "code",
   "execution_count": 48,
   "id": "16b7ed56",
   "metadata": {},
   "outputs": [
    {
     "name": "stdout",
     "output_type": "stream",
     "text": [
      "training set accuracy: 0.9090909090909091\n",
      "test set accuracy : 0.64\n"
     ]
    }
   ],
   "source": [
    "classifier, classifer_name, test_set_accuracy, training_set_accuracy = train_using_naiveBayes(training_data, test_data)"
   ]
  },
  {
   "cell_type": "code",
   "execution_count": 49,
   "id": "5b8a6165",
   "metadata": {},
   "outputs": [
    {
     "name": "stdout",
     "output_type": "stream",
     "text": [
      "68\n"
     ]
    }
   ],
   "source": [
    "print(len(classifier.most_informative_features()))"
   ]
  },
  {
   "cell_type": "code",
   "execution_count": 50,
   "id": "60a53492",
   "metadata": {},
   "outputs": [
    {
     "name": "stdout",
     "output_type": "stream",
     "text": [
      "Most Informative Features\n",
      "                    leav = None           Closin : Balanc =     12.4 : 1.0\n",
      "                   taken = None           Balanc : Utiliz =      5.1 : 1.0\n",
      "                    mani = True           Defaul : CF     =      4.7 : 1.0\n",
      "                 alreadi = True           Defaul : Utiliz =      4.4 : 1.0\n",
      "                    help = True             Help : Closin =      3.5 : 1.0\n",
      "                   count = True           Utiliz : CF     =      3.2 : 1.0\n",
      "                  remain = None           Utiliz : Balanc =      3.1 : 1.0\n",
      "                   carri = None           Utiliz : CF     =      3.0 : 1.0\n",
      "                   thank = None           Utiliz : Closin =      2.7 : 1.0\n",
      "                    help = None           Utiliz : No-Hel =      2.6 : 1.0\n"
     ]
    }
   ],
   "source": [
    "classifier.show_most_informative_features()"
   ]
  },
  {
   "cell_type": "code",
   "execution_count": 51,
   "id": "60614249",
   "metadata": {},
   "outputs": [
    {
     "data": {
      "text/plain": [
       "'Utilized-Optional-Leaves'"
      ]
     },
     "execution_count": 51,
     "metadata": {},
     "output_type": "execute_result"
    }
   ],
   "source": [
    "classifier.classify(({'mani': True, 'option': True, 'leav': True}))"
   ]
  },
  {
   "cell_type": "code",
   "execution_count": 52,
   "id": "69aa94ce",
   "metadata": {},
   "outputs": [
    {
     "data": {
      "text/plain": [
       "['hello']"
      ]
     },
     "execution_count": 52,
     "metadata": {},
     "output_type": "execute_result"
    }
   ],
   "source": [
    "extract_features('hello')"
   ]
  },
  {
   "cell_type": "code",
   "execution_count": 53,
   "id": "2bc18f34",
   "metadata": {},
   "outputs": [
    {
     "data": {
      "text/plain": [
       "{'hello': True}"
      ]
     },
     "execution_count": 53,
     "metadata": {},
     "output_type": "execute_result"
    }
   ],
   "source": [
    "word_feats(extract_features('hello'))"
   ]
  },
  {
   "cell_type": "code",
   "execution_count": 55,
   "id": "1f6cc604",
   "metadata": {},
   "outputs": [
    {
     "data": {
      "text/plain": [
       "'Utilized-Optional-Leaves'"
      ]
     },
     "execution_count": 55,
     "metadata": {},
     "output_type": "execute_result"
    }
   ],
   "source": [
    "input_sentence = 'how many balanced leaves do I have?'\n",
    "classifier.classify(word_feats(extract_features(input_sentence)))"
   ]
  },
  {
   "cell_type": "code",
   "execution_count": 56,
   "id": "ed2d8fba",
   "metadata": {},
   "outputs": [],
   "source": [
    "def reply(input_sentence):\n",
    "    category = dtclassifier.classify(word_feats(extract_features(input_sentence)))\n",
    "    return answers[category]"
   ]
  },
  {
   "cell_type": "code",
   "execution_count": 57,
   "id": "c5c1474e",
   "metadata": {},
   "outputs": [
    {
     "data": {
      "text/plain": [
       "'Hello. I am ABHIbot. I will serve your leave enquiries.'"
      ]
     },
     "execution_count": 57,
     "metadata": {},
     "output_type": "execute_result"
    }
   ],
   "source": [
    "reply('hello')"
   ]
  },
  {
   "cell_type": "code",
   "execution_count": 60,
   "id": "6f8dd59d",
   "metadata": {},
   "outputs": [
    {
     "data": {
      "text/plain": [
       "'You have 25 annual leaves remaining.'"
      ]
     },
     "execution_count": 60,
     "metadata": {},
     "output_type": "execute_result"
    }
   ],
   "source": [
    "reply('How many annual leaves do I have left?')"
   ]
  },
  {
   "cell_type": "code",
   "execution_count": 61,
   "id": "140bb436",
   "metadata": {},
   "outputs": [
    {
     "data": {
      "text/plain": [
       "'You have used 12 annual leaves.'"
      ]
     },
     "execution_count": 61,
     "metadata": {},
     "output_type": "execute_result"
    }
   ],
   "source": [
    "reply('how many leaves have I taken')"
   ]
  },
  {
   "cell_type": "code",
   "execution_count": 62,
   "id": "60d989db",
   "metadata": {},
   "outputs": [
    {
     "data": {
      "text/plain": [
       "'You have used 12 annual leaves.'"
      ]
     },
     "execution_count": 62,
     "metadata": {},
     "output_type": "execute_result"
    }
   ],
   "source": [
    "reply('how many leaves I taken')"
   ]
  },
  {
   "cell_type": "code",
   "execution_count": null,
   "id": "28508761",
   "metadata": {},
   "outputs": [],
   "source": []
  }
 ],
 "metadata": {
  "kernelspec": {
   "display_name": "Python 3 (ipykernel)",
   "language": "python",
   "name": "python3"
  },
  "language_info": {
   "codemirror_mode": {
    "name": "ipython",
    "version": 3
   },
   "file_extension": ".py",
   "mimetype": "text/x-python",
   "name": "python",
   "nbconvert_exporter": "python",
   "pygments_lexer": "ipython3",
   "version": "3.11.3"
  }
 },
 "nbformat": 4,
 "nbformat_minor": 5
}
